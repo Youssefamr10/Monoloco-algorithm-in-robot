{
 "cells": [
  {
   "cell_type": "code",
   "execution_count": 1,
   "id": "71e58e20-90ed-4a81-a998-f7b8e18f7a3d",
   "metadata": {},
   "outputs": [],
   "source": [
    "import rclpy\n",
    "from rclpy.node import Node\n",
    "from sensor_msgs.msg import Image\n",
    "from cv_bridge import CvBridge\n",
    "import cv2\n",
    "import subprocess\n",
    "import numpy as np"
   ]
  },
  {
   "cell_type": "code",
   "execution_count": null,
   "id": "63f04eb1-4e01-4ee3-b175-aedf4538be8f",
   "metadata": {},
   "outputs": [],
   "source": [
    "class live_model_run(Node):\n",
    "    def __init__(self):\n",
    "        super().__init__('live_model_run')\n",
    "        # subscribe to the ros camera topic\n",
    "        self.subscription = self.create_subscription(\n",
    "            Image,\n",
    "            '/zed/zed_node/left/image_rect_color',  # Path to the live webcam topic\n",
    "            self.image_callback,\n",
    "            10\n",
    "        )\n",
    "        self.bridge = CvBridge()\n",
    "        # run monoloco as a subprocess with the webcam option\n",
    "        self.model_process = subprocess.Popen(\n",
    "            [\"python3\", \"-m\", \"monoloco.run\", \"predict\", \"--webcam\"],\n",
    "            stdin = subprocess.PIPE , stdout = subprocess.PIPE , stderr = subprocess.PIPE , text = True\n",
    "        )\n",
    "        # video writer to save output video\n",
    "        output_video_path = \"/Users/youssefelsaady/Desktop/Practical work/Output_webcam_run/live_run.mp4\"  # Change to your desired path\n",
    "        fourcc = cv2.VideoWriter_fourcc(*\"mp4v\")  \n",
    "        self.video_writer = cv2.VideoWriter(output_video_path , fourcc,  20.0 , (1280 , 720))  \n",
    "        self.get_logger().info(\"Live Model Processor Node Initialized\")\n",
    "    \n",
    "    def image_callback(self, msg):\n",
    "        # converting ros_images message to opencv\n",
    "        cv_image = self.bridge.imgmsg_to_cv2(msg , desired_encoding = \"bgr8\")\n",
    "        # changing opencv image to bytes and write it to model to process\n",
    "        _, buffer = cv2.imencode(\".jpg\", cv_image)\n",
    "        self.model_process.stdin.write(buffer.tobytes())\n",
    "        self.model_process.stdin.flush()\n",
    "        self.get_logger().info(\"Sent frame to model\")\n",
    "        \n",
    "        # reading model output \n",
    "        output_data = self.model_process.stdout.read()  \n",
    "        if output_data:\n",
    "            # converting output to opencv \n",
    "            np_arr = np.frombuffer(output_data , np.uint8)\n",
    "            output_image = cv2.imdecode(np_arr , cv2.IMREAD_COLOR)\n",
    "            if output_image is not None:\n",
    "                # showing and saving processed video in live\n",
    "                cv2.imshow(\"Processed Output\", output_image)\n",
    "                cv2.waitKey(1)\n",
    "                self.video_writer.write(output_image)\n",
    "                self.get_logger().info(\"Frame written to video file\")\n",
    "\n",
    "    def destroy_node(self):\n",
    "        # cleaning up subprocess before shutting down\n",
    "        self.model_process.terminate()\n",
    "        self.video_writer.release()\n",
    "        cv2.destroyAllWindows()\n",
    "        super().destroy_node()"
   ]
  },
  {
   "cell_type": "code",
   "execution_count": null,
   "id": "99f77eca-d9b4-4109-9b31-fb6d55fadbd2",
   "metadata": {},
   "outputs": [],
   "source": [
    "def main(args=None):\n",
    "    rclpy.init(args = args)\n",
    "    node = LiveModelProcessor()\n",
    "    rclpy.spin(node)\n",
    "    node.destroy_node()\n",
    "    rclpy.shutdown()"
   ]
  },
  {
   "cell_type": "code",
   "execution_count": null,
   "id": "20e4543a-1ba4-4e92-a732-66865f8b3f6d",
   "metadata": {},
   "outputs": [],
   "source": [
    "if __name__ == '__main__':\n",
    "    main()"
   ]
  }
 ],
 "metadata": {
  "kernelspec": {
   "display_name": "Python 3 (ipykernel)",
   "language": "python",
   "name": "python3"
  },
  "language_info": {
   "codemirror_mode": {
    "name": "ipython",
    "version": 3
   },
   "file_extension": ".py",
   "mimetype": "text/x-python",
   "name": "python",
   "nbconvert_exporter": "python",
   "pygments_lexer": "ipython3",
   "version": "3.11.8"
  }
 },
 "nbformat": 4,
 "nbformat_minor": 5
}
